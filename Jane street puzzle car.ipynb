{
 "cells": [
  {
   "cell_type": "code",
   "execution_count": 61,
   "id": "ac6f9460",
   "metadata": {},
   "outputs": [
    {
     "name": "stdout",
     "output_type": "stream",
     "text": [
      " message: Solution found.\n",
      " success: True\n",
      "  status: 0\n",
      "     fun: 0.027906726708239758\n",
      "       x: 1.1651721879489805\n",
      "     nit: 14\n",
      "    nfev: 14\n"
     ]
    }
   ],
   "source": [
    "import random\n",
    "import numpy as np\n",
    "import matplotlib.pyplot as plt\n",
    "import pandas as pd\n",
    "from scipy.optimize import minimize_scalar\n",
    "\n",
    "random.seed(42)\n",
    "car_speeds = [(random.uniform(1,2), random.uniform(1,2)) for _ in range(1000000)]\n",
    "\n",
    "def loss_func(speed_limit):\n",
    "\n",
    "    total_loss = 0\n",
    "\n",
    "    for car1, car2 in car_speeds:\n",
    "\n",
    "        if car1 == car2:\n",
    "            continue\n",
    "\n",
    "        faster = max(car1,car2)\n",
    "        slower = min(car1,car2)\n",
    "\n",
    "        if faster>speed_limit and slower>speed_limit:\n",
    "            loss = 0.25 * (slower - speed_limit)**2\n",
    "\n",
    "        elif faster<speed_limit and slower<speed_limit:\n",
    "            loss = 0.25 * (slower - 0)**2\n",
    "\n",
    "        else:\n",
    "            continue\n",
    "\n",
    "        total_loss += loss\n",
    "\n",
    "    return total_loss/len(car_speeds)\n",
    "\n",
    "result = minimize_scalar(loss_func, bounds=(1,2), method = 'bounded')\n",
    "\n",
    "print(result)\n",
    "\n",
    "\n",
    "    \n",
    "\n",
    "\n",
    "\n",
    "\n",
    "\n",
    "\n",
    "\n",
    "\n",
    "\n",
    "\n"
   ]
  },
  {
   "cell_type": "code",
   "execution_count": null,
   "id": "bc81fd6b",
   "metadata": {},
   "outputs": [],
   "source": []
  }
 ],
 "metadata": {
  "kernelspec": {
   "display_name": "Python 3",
   "language": "python",
   "name": "python3"
  },
  "language_info": {
   "codemirror_mode": {
    "name": "ipython",
    "version": 3
   },
   "file_extension": ".py",
   "mimetype": "text/x-python",
   "name": "python",
   "nbconvert_exporter": "python",
   "pygments_lexer": "ipython3",
   "version": "3.10.0"
  }
 },
 "nbformat": 4,
 "nbformat_minor": 5
}
